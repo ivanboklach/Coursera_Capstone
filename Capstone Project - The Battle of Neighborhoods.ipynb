{
    "cells": [
        {
            "metadata": {
                "collapsed": true
            },
            "cell_type": "markdown",
            "source": "# Capstone Project - The Battle of Neighborhoods"
        },
        {
            "metadata": {},
            "cell_type": "markdown",
            "source": "# Business Problem"
        },
        {
            "metadata": {},
            "cell_type": "markdown",
            "source": "### Background"
        },
        {
            "metadata": {},
            "cell_type": "markdown",
            "source": "According to Hometrack UK Cities House Price Index, Manchester's housing market has been one of the most impressive in the UK for many years, and 2019 was no different. House prices rose significantly, thanks to huge population growth and lack of available stock. The latest Hometrack UK Cities House Price Index shows that property values in Manchester are growing at 3.4% annually. Not only is this higher than the national average (2.1%), it is also almost twice as fast as the UK cities average (1.8%) and almost four times higher than the annual growth in London (0.9%)."
        },
        {
            "metadata": {},
            "cell_type": "markdown",
            "source": "### Business Problem"
        },
        {
            "metadata": {},
            "cell_type": "markdown",
            "source": "In this scenario, there is an urgent need to adopt machine learning tools to help Manchester homebuyers make wise and effective decisions.\nAs a result, the business problem we are now posing is: how can we support Manchester homebuyers in this increasing financial scenario?"
        },
        {
            "metadata": {},
            "cell_type": "markdown",
            "source": "# Data"
        },
        {
            "metadata": {},
            "cell_type": "markdown",
            "source": "HGhdfjkdkf"
        },
        {
            "metadata": {},
            "cell_type": "markdown",
            "source": "# Methodology"
        },
        {
            "metadata": {},
            "cell_type": "markdown",
            "source": "The Methodology will describe the main components of our analysis and predication system. The Methodology comprises four stages:\n\n1. Collect Inspection Data\n2. Explore and Understand Data\n3. Data preparation and preprocessing \n4. Modeling"
        },
        {
            "metadata": {},
            "cell_type": "markdown",
            "source": "#### 1. Collect Inspection Data"
        },
        {
            "metadata": {},
            "cell_type": "code",
            "source": "import os\nimport numpy as np\nimport pandas as pd\nimport datetime as dt\nimport json\n\n!conda install -c conda-forge geopy --yes\nfrom geopy.geocoders import Nominatim\n\nimport requests\nfrom pandas.io.json import json_normalize\n\nimport matplotlib.cm as cm\nimport matplotlib.colors as colors\n\n!conda install -c conda-forge folium=0.5.0 --yes\nimport folium\n\nprint('Libraries imported')",
            "execution_count": null,
            "outputs": []
        },
        {
            "metadata": {},
            "cell_type": "code",
            "source": "df_ppd = pd.read_csv(\"http://prod2.publicdata.landregistry.gov.uk.s3-website-eu-west-1.amazonaws.com/pp-2019.csv\")",
            "execution_count": 4,
            "outputs": []
        },
        {
            "metadata": {},
            "cell_type": "markdown",
            "source": "#### 2. Explore and Understand Data"
        },
        {
            "metadata": {},
            "cell_type": "code",
            "source": "",
            "execution_count": null,
            "outputs": []
        },
        {
            "metadata": {},
            "cell_type": "markdown",
            "source": "#### 3. Data preparation and preprocessing"
        },
        {
            "metadata": {},
            "cell_type": "code",
            "source": "",
            "execution_count": null,
            "outputs": []
        },
        {
            "metadata": {},
            "cell_type": "markdown",
            "source": "#### 4. Modelling"
        },
        {
            "metadata": {},
            "cell_type": "code",
            "source": "",
            "execution_count": null,
            "outputs": []
        }
    ],
    "metadata": {
        "kernelspec": {
            "name": "python3",
            "display_name": "Python 3.6",
            "language": "python"
        },
        "language_info": {
            "name": "python",
            "version": "3.6.9",
            "mimetype": "text/x-python",
            "codemirror_mode": {
                "name": "ipython",
                "version": 3
            },
            "pygments_lexer": "ipython3",
            "nbconvert_exporter": "python",
            "file_extension": ".py"
        }
    },
    "nbformat": 4,
    "nbformat_minor": 1
}